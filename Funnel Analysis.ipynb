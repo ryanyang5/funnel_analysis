{
 "cells": [
  {
   "cell_type": "code",
   "execution_count": 1,
   "id": "1fe5eb63",
   "metadata": {},
   "outputs": [],
   "source": [
    "import pandas as pd\n",
    "import matplotlib.pyplot as plt\n",
    "import matplotlib.dates as mdates\n",
    "import numpy as np\n",
    "import seaborn as sns"
   ]
  },
  {
   "cell_type": "code",
   "execution_count": 2,
   "id": "18db4e54",
   "metadata": {},
   "outputs": [
    {
     "data": {
      "text/html": [
       "<div>\n",
       "<style scoped>\n",
       "    .dataframe tbody tr th:only-of-type {\n",
       "        vertical-align: middle;\n",
       "    }\n",
       "\n",
       "    .dataframe tbody tr th {\n",
       "        vertical-align: top;\n",
       "    }\n",
       "\n",
       "    .dataframe thead th {\n",
       "        text-align: right;\n",
       "    }\n",
       "</style>\n",
       "<table border=\"1\" class=\"dataframe\">\n",
       "  <thead>\n",
       "    <tr style=\"text-align: right;\">\n",
       "      <th></th>\n",
       "      <th>user_id</th>\n",
       "      <th>date</th>\n",
       "      <th>device</th>\n",
       "      <th>sex</th>\n",
       "    </tr>\n",
       "  </thead>\n",
       "  <tbody>\n",
       "    <tr>\n",
       "      <th>0</th>\n",
       "      <td>450007</td>\n",
       "      <td>2015-02-28</td>\n",
       "      <td>Desktop</td>\n",
       "      <td>Female</td>\n",
       "    </tr>\n",
       "    <tr>\n",
       "      <th>1</th>\n",
       "      <td>756838</td>\n",
       "      <td>2015-01-13</td>\n",
       "      <td>Desktop</td>\n",
       "      <td>Male</td>\n",
       "    </tr>\n",
       "    <tr>\n",
       "      <th>2</th>\n",
       "      <td>568983</td>\n",
       "      <td>2015-04-09</td>\n",
       "      <td>Desktop</td>\n",
       "      <td>Male</td>\n",
       "    </tr>\n",
       "    <tr>\n",
       "      <th>3</th>\n",
       "      <td>190794</td>\n",
       "      <td>2015-02-18</td>\n",
       "      <td>Desktop</td>\n",
       "      <td>Female</td>\n",
       "    </tr>\n",
       "    <tr>\n",
       "      <th>4</th>\n",
       "      <td>537909</td>\n",
       "      <td>2015-01-15</td>\n",
       "      <td>Desktop</td>\n",
       "      <td>Male</td>\n",
       "    </tr>\n",
       "  </tbody>\n",
       "</table>\n",
       "</div>"
      ],
      "text/plain": [
       "   user_id        date   device     sex\n",
       "0   450007  2015-02-28  Desktop  Female\n",
       "1   756838  2015-01-13  Desktop    Male\n",
       "2   568983  2015-04-09  Desktop    Male\n",
       "3   190794  2015-02-18  Desktop  Female\n",
       "4   537909  2015-01-15  Desktop    Male"
      ]
     },
     "execution_count": 2,
     "metadata": {},
     "output_type": "execute_result"
    }
   ],
   "source": [
    "# read the files\n",
    "user = pd.read_csv(\"C:\\\\Users\\\\Xiaochen\\\\Desktop\\\\Project\\\\Funnel Analysis\\\\user_table.csv\")\n",
    "user.head()"
   ]
  },
  {
   "cell_type": "code",
   "execution_count": 3,
   "id": "50b7bf8b",
   "metadata": {},
   "outputs": [
    {
     "data": {
      "text/html": [
       "<div>\n",
       "<style scoped>\n",
       "    .dataframe tbody tr th:only-of-type {\n",
       "        vertical-align: middle;\n",
       "    }\n",
       "\n",
       "    .dataframe tbody tr th {\n",
       "        vertical-align: top;\n",
       "    }\n",
       "\n",
       "    .dataframe thead th {\n",
       "        text-align: right;\n",
       "    }\n",
       "</style>\n",
       "<table border=\"1\" class=\"dataframe\">\n",
       "  <thead>\n",
       "    <tr style=\"text-align: right;\">\n",
       "      <th></th>\n",
       "      <th>user_id</th>\n",
       "      <th>page</th>\n",
       "    </tr>\n",
       "  </thead>\n",
       "  <tbody>\n",
       "    <tr>\n",
       "      <th>0</th>\n",
       "      <td>313593</td>\n",
       "      <td>home_page</td>\n",
       "    </tr>\n",
       "    <tr>\n",
       "      <th>1</th>\n",
       "      <td>468315</td>\n",
       "      <td>home_page</td>\n",
       "    </tr>\n",
       "    <tr>\n",
       "      <th>2</th>\n",
       "      <td>264005</td>\n",
       "      <td>home_page</td>\n",
       "    </tr>\n",
       "    <tr>\n",
       "      <th>3</th>\n",
       "      <td>290784</td>\n",
       "      <td>home_page</td>\n",
       "    </tr>\n",
       "    <tr>\n",
       "      <th>4</th>\n",
       "      <td>639104</td>\n",
       "      <td>home_page</td>\n",
       "    </tr>\n",
       "  </tbody>\n",
       "</table>\n",
       "</div>"
      ],
      "text/plain": [
       "   user_id       page\n",
       "0   313593  home_page\n",
       "1   468315  home_page\n",
       "2   264005  home_page\n",
       "3   290784  home_page\n",
       "4   639104  home_page"
      ]
     },
     "execution_count": 3,
     "metadata": {},
     "output_type": "execute_result"
    }
   ],
   "source": [
    "home_page = pd.read_csv(\"C:\\\\Users\\\\Xiaochen\\\\Desktop\\\\Project\\Funnel Analysis\\\\home_page_table.csv\")\n",
    "home_page.head()"
   ]
  },
  {
   "cell_type": "code",
   "execution_count": 4,
   "id": "d25dc88a",
   "metadata": {},
   "outputs": [
    {
     "data": {
      "text/html": [
       "<div>\n",
       "<style scoped>\n",
       "    .dataframe tbody tr th:only-of-type {\n",
       "        vertical-align: middle;\n",
       "    }\n",
       "\n",
       "    .dataframe tbody tr th {\n",
       "        vertical-align: top;\n",
       "    }\n",
       "\n",
       "    .dataframe thead th {\n",
       "        text-align: right;\n",
       "    }\n",
       "</style>\n",
       "<table border=\"1\" class=\"dataframe\">\n",
       "  <thead>\n",
       "    <tr style=\"text-align: right;\">\n",
       "      <th></th>\n",
       "      <th>user_id</th>\n",
       "      <th>page</th>\n",
       "    </tr>\n",
       "  </thead>\n",
       "  <tbody>\n",
       "    <tr>\n",
       "      <th>0</th>\n",
       "      <td>15866</td>\n",
       "      <td>search_page</td>\n",
       "    </tr>\n",
       "    <tr>\n",
       "      <th>1</th>\n",
       "      <td>347058</td>\n",
       "      <td>search_page</td>\n",
       "    </tr>\n",
       "    <tr>\n",
       "      <th>2</th>\n",
       "      <td>577020</td>\n",
       "      <td>search_page</td>\n",
       "    </tr>\n",
       "    <tr>\n",
       "      <th>3</th>\n",
       "      <td>780347</td>\n",
       "      <td>search_page</td>\n",
       "    </tr>\n",
       "    <tr>\n",
       "      <th>4</th>\n",
       "      <td>383739</td>\n",
       "      <td>search_page</td>\n",
       "    </tr>\n",
       "  </tbody>\n",
       "</table>\n",
       "</div>"
      ],
      "text/plain": [
       "   user_id         page\n",
       "0    15866  search_page\n",
       "1   347058  search_page\n",
       "2   577020  search_page\n",
       "3   780347  search_page\n",
       "4   383739  search_page"
      ]
     },
     "execution_count": 4,
     "metadata": {},
     "output_type": "execute_result"
    }
   ],
   "source": [
    "search_page = pd.read_csv(\"C:\\\\Users\\\\Xiaochen\\\\Desktop\\\\Project\\\\Funnel Analysis\\\\search_page_table.csv\")\n",
    "search_page.head()"
   ]
  },
  {
   "cell_type": "code",
   "execution_count": 5,
   "id": "8728de9e",
   "metadata": {},
   "outputs": [
    {
     "data": {
      "text/html": [
       "<div>\n",
       "<style scoped>\n",
       "    .dataframe tbody tr th:only-of-type {\n",
       "        vertical-align: middle;\n",
       "    }\n",
       "\n",
       "    .dataframe tbody tr th {\n",
       "        vertical-align: top;\n",
       "    }\n",
       "\n",
       "    .dataframe thead th {\n",
       "        text-align: right;\n",
       "    }\n",
       "</style>\n",
       "<table border=\"1\" class=\"dataframe\">\n",
       "  <thead>\n",
       "    <tr style=\"text-align: right;\">\n",
       "      <th></th>\n",
       "      <th>user_id</th>\n",
       "      <th>page</th>\n",
       "    </tr>\n",
       "  </thead>\n",
       "  <tbody>\n",
       "    <tr>\n",
       "      <th>0</th>\n",
       "      <td>253019</td>\n",
       "      <td>payment_page</td>\n",
       "    </tr>\n",
       "    <tr>\n",
       "      <th>1</th>\n",
       "      <td>310478</td>\n",
       "      <td>payment_page</td>\n",
       "    </tr>\n",
       "    <tr>\n",
       "      <th>2</th>\n",
       "      <td>304081</td>\n",
       "      <td>payment_page</td>\n",
       "    </tr>\n",
       "    <tr>\n",
       "      <th>3</th>\n",
       "      <td>901286</td>\n",
       "      <td>payment_page</td>\n",
       "    </tr>\n",
       "    <tr>\n",
       "      <th>4</th>\n",
       "      <td>195052</td>\n",
       "      <td>payment_page</td>\n",
       "    </tr>\n",
       "  </tbody>\n",
       "</table>\n",
       "</div>"
      ],
      "text/plain": [
       "   user_id          page\n",
       "0   253019  payment_page\n",
       "1   310478  payment_page\n",
       "2   304081  payment_page\n",
       "3   901286  payment_page\n",
       "4   195052  payment_page"
      ]
     },
     "execution_count": 5,
     "metadata": {},
     "output_type": "execute_result"
    }
   ],
   "source": [
    "payment_page = pd.read_csv(\"C:\\\\Users\\\\Xiaochen\\\\Desktop\\\\Project\\\\Funnel Analysis\\\\payment_page_table.csv\")\n",
    "payment_page.head()"
   ]
  },
  {
   "cell_type": "code",
   "execution_count": 6,
   "id": "46822c21",
   "metadata": {},
   "outputs": [
    {
     "data": {
      "text/html": [
       "<div>\n",
       "<style scoped>\n",
       "    .dataframe tbody tr th:only-of-type {\n",
       "        vertical-align: middle;\n",
       "    }\n",
       "\n",
       "    .dataframe tbody tr th {\n",
       "        vertical-align: top;\n",
       "    }\n",
       "\n",
       "    .dataframe thead th {\n",
       "        text-align: right;\n",
       "    }\n",
       "</style>\n",
       "<table border=\"1\" class=\"dataframe\">\n",
       "  <thead>\n",
       "    <tr style=\"text-align: right;\">\n",
       "      <th></th>\n",
       "      <th>user_id</th>\n",
       "      <th>page</th>\n",
       "    </tr>\n",
       "  </thead>\n",
       "  <tbody>\n",
       "    <tr>\n",
       "      <th>0</th>\n",
       "      <td>123100</td>\n",
       "      <td>payment_confirmation_page</td>\n",
       "    </tr>\n",
       "    <tr>\n",
       "      <th>1</th>\n",
       "      <td>704999</td>\n",
       "      <td>payment_confirmation_page</td>\n",
       "    </tr>\n",
       "    <tr>\n",
       "      <th>2</th>\n",
       "      <td>407188</td>\n",
       "      <td>payment_confirmation_page</td>\n",
       "    </tr>\n",
       "    <tr>\n",
       "      <th>3</th>\n",
       "      <td>538348</td>\n",
       "      <td>payment_confirmation_page</td>\n",
       "    </tr>\n",
       "    <tr>\n",
       "      <th>4</th>\n",
       "      <td>841681</td>\n",
       "      <td>payment_confirmation_page</td>\n",
       "    </tr>\n",
       "  </tbody>\n",
       "</table>\n",
       "</div>"
      ],
      "text/plain": [
       "   user_id                       page\n",
       "0   123100  payment_confirmation_page\n",
       "1   704999  payment_confirmation_page\n",
       "2   407188  payment_confirmation_page\n",
       "3   538348  payment_confirmation_page\n",
       "4   841681  payment_confirmation_page"
      ]
     },
     "execution_count": 6,
     "metadata": {},
     "output_type": "execute_result"
    }
   ],
   "source": [
    "payment_confirmation = pd.read_csv(\"C:\\\\Users\\\\Xiaochen\\\\Desktop\\\\Project\\\\Funnel Analysis\\\\payment_confirmation_table.csv\")\n",
    "payment_confirmation.head()"
   ]
  },
  {
   "cell_type": "markdown",
   "id": "bfce92f2",
   "metadata": {},
   "source": [
    "### Data Analysis"
   ]
  },
  {
   "cell_type": "code",
   "execution_count": 7,
   "id": "20536da6",
   "metadata": {},
   "outputs": [
    {
     "data": {
      "text/html": [
       "<div>\n",
       "<style scoped>\n",
       "    .dataframe tbody tr th:only-of-type {\n",
       "        vertical-align: middle;\n",
       "    }\n",
       "\n",
       "    .dataframe tbody tr th {\n",
       "        vertical-align: top;\n",
       "    }\n",
       "\n",
       "    .dataframe thead th {\n",
       "        text-align: right;\n",
       "    }\n",
       "</style>\n",
       "<table border=\"1\" class=\"dataframe\">\n",
       "  <thead>\n",
       "    <tr style=\"text-align: right;\">\n",
       "      <th></th>\n",
       "      <th>user_id</th>\n",
       "      <th>date</th>\n",
       "      <th>device</th>\n",
       "      <th>sex</th>\n",
       "      <th>page_home</th>\n",
       "      <th>page_search</th>\n",
       "      <th>page_payment</th>\n",
       "      <th>page_confirmation</th>\n",
       "    </tr>\n",
       "  </thead>\n",
       "  <tbody>\n",
       "    <tr>\n",
       "      <th>0</th>\n",
       "      <td>450007</td>\n",
       "      <td>2015-02-28</td>\n",
       "      <td>Desktop</td>\n",
       "      <td>Female</td>\n",
       "      <td>home_page</td>\n",
       "      <td>NaN</td>\n",
       "      <td>NaN</td>\n",
       "      <td>NaN</td>\n",
       "    </tr>\n",
       "    <tr>\n",
       "      <th>1</th>\n",
       "      <td>756838</td>\n",
       "      <td>2015-01-13</td>\n",
       "      <td>Desktop</td>\n",
       "      <td>Male</td>\n",
       "      <td>home_page</td>\n",
       "      <td>NaN</td>\n",
       "      <td>NaN</td>\n",
       "      <td>NaN</td>\n",
       "    </tr>\n",
       "    <tr>\n",
       "      <th>2</th>\n",
       "      <td>568983</td>\n",
       "      <td>2015-04-09</td>\n",
       "      <td>Desktop</td>\n",
       "      <td>Male</td>\n",
       "      <td>home_page</td>\n",
       "      <td>search_page</td>\n",
       "      <td>NaN</td>\n",
       "      <td>NaN</td>\n",
       "    </tr>\n",
       "    <tr>\n",
       "      <th>3</th>\n",
       "      <td>190794</td>\n",
       "      <td>2015-02-18</td>\n",
       "      <td>Desktop</td>\n",
       "      <td>Female</td>\n",
       "      <td>home_page</td>\n",
       "      <td>search_page</td>\n",
       "      <td>NaN</td>\n",
       "      <td>NaN</td>\n",
       "    </tr>\n",
       "    <tr>\n",
       "      <th>4</th>\n",
       "      <td>537909</td>\n",
       "      <td>2015-01-15</td>\n",
       "      <td>Desktop</td>\n",
       "      <td>Male</td>\n",
       "      <td>home_page</td>\n",
       "      <td>NaN</td>\n",
       "      <td>NaN</td>\n",
       "      <td>NaN</td>\n",
       "    </tr>\n",
       "  </tbody>\n",
       "</table>\n",
       "</div>"
      ],
      "text/plain": [
       "   user_id        date   device     sex  page_home  page_search page_payment  \\\n",
       "0   450007  2015-02-28  Desktop  Female  home_page          NaN          NaN   \n",
       "1   756838  2015-01-13  Desktop    Male  home_page          NaN          NaN   \n",
       "2   568983  2015-04-09  Desktop    Male  home_page  search_page          NaN   \n",
       "3   190794  2015-02-18  Desktop  Female  home_page  search_page          NaN   \n",
       "4   537909  2015-01-15  Desktop    Male  home_page          NaN          NaN   \n",
       "\n",
       "  page_confirmation  \n",
       "0               NaN  \n",
       "1               NaN  \n",
       "2               NaN  \n",
       "3               NaN  \n",
       "4               NaN  "
      ]
     },
     "execution_count": 7,
     "metadata": {},
     "output_type": "execute_result"
    }
   ],
   "source": [
    "# merge all the files by using user_id\n",
    "data=pd.merge(user,home_page,how='left',on='user_id')\n",
    "data=pd.merge(data,search_page,how='left',on='user_id',suffixes=('_home','_search'))\n",
    "data=pd.merge(data,payment_page,how='left',on='user_id')\n",
    "data=pd.merge(data,payment_confirmation,how='left',on='user_id',suffixes=('_payment','_confirmation'))\n",
    "data.head()"
   ]
  },
  {
   "cell_type": "code",
   "execution_count": 8,
   "id": "5960d66c",
   "metadata": {},
   "outputs": [],
   "source": [
    "#Replace NAs with 0 and non-NAs with 1\n",
    "for i in range(4,8):\n",
    "    data.iloc[:,i] = np.where(data.iloc[:,i].isna(), 0, 1)"
   ]
  },
  {
   "cell_type": "code",
   "execution_count": 9,
   "id": "086e2c6d",
   "metadata": {},
   "outputs": [],
   "source": [
    "# Make the date column in datetime format\n",
    "data['date'] = pd.to_datetime(data['date'])"
   ]
  },
  {
   "cell_type": "code",
   "execution_count": 10,
   "id": "10a0e485",
   "metadata": {},
   "outputs": [
    {
     "data": {
      "text/html": [
       "<div>\n",
       "<style scoped>\n",
       "    .dataframe tbody tr th:only-of-type {\n",
       "        vertical-align: middle;\n",
       "    }\n",
       "\n",
       "    .dataframe tbody tr th {\n",
       "        vertical-align: top;\n",
       "    }\n",
       "\n",
       "    .dataframe thead th {\n",
       "        text-align: right;\n",
       "    }\n",
       "</style>\n",
       "<table border=\"1\" class=\"dataframe\">\n",
       "  <thead>\n",
       "    <tr style=\"text-align: right;\">\n",
       "      <th></th>\n",
       "      <th>user_id</th>\n",
       "      <th>page_home</th>\n",
       "      <th>page_search</th>\n",
       "      <th>page_payment</th>\n",
       "      <th>page_confirmation</th>\n",
       "    </tr>\n",
       "  </thead>\n",
       "  <tbody>\n",
       "    <tr>\n",
       "      <th>count</th>\n",
       "      <td>90400.000000</td>\n",
       "      <td>90400.0</td>\n",
       "      <td>90400.000000</td>\n",
       "      <td>90400.000000</td>\n",
       "      <td>90400.000000</td>\n",
       "    </tr>\n",
       "    <tr>\n",
       "      <th>mean</th>\n",
       "      <td>498709.683473</td>\n",
       "      <td>1.0</td>\n",
       "      <td>0.500000</td>\n",
       "      <td>0.066704</td>\n",
       "      <td>0.005000</td>\n",
       "    </tr>\n",
       "    <tr>\n",
       "      <th>std</th>\n",
       "      <td>289040.674085</td>\n",
       "      <td>0.0</td>\n",
       "      <td>0.500003</td>\n",
       "      <td>0.249509</td>\n",
       "      <td>0.070534</td>\n",
       "    </tr>\n",
       "    <tr>\n",
       "      <th>min</th>\n",
       "      <td>17.000000</td>\n",
       "      <td>1.0</td>\n",
       "      <td>0.000000</td>\n",
       "      <td>0.000000</td>\n",
       "      <td>0.000000</td>\n",
       "    </tr>\n",
       "    <tr>\n",
       "      <th>25%</th>\n",
       "      <td>247978.750000</td>\n",
       "      <td>1.0</td>\n",
       "      <td>0.000000</td>\n",
       "      <td>0.000000</td>\n",
       "      <td>0.000000</td>\n",
       "    </tr>\n",
       "    <tr>\n",
       "      <th>50%</th>\n",
       "      <td>498267.000000</td>\n",
       "      <td>1.0</td>\n",
       "      <td>0.500000</td>\n",
       "      <td>0.000000</td>\n",
       "      <td>0.000000</td>\n",
       "    </tr>\n",
       "    <tr>\n",
       "      <th>75%</th>\n",
       "      <td>749789.250000</td>\n",
       "      <td>1.0</td>\n",
       "      <td>1.000000</td>\n",
       "      <td>0.000000</td>\n",
       "      <td>0.000000</td>\n",
       "    </tr>\n",
       "    <tr>\n",
       "      <th>max</th>\n",
       "      <td>999979.000000</td>\n",
       "      <td>1.0</td>\n",
       "      <td>1.000000</td>\n",
       "      <td>1.000000</td>\n",
       "      <td>1.000000</td>\n",
       "    </tr>\n",
       "  </tbody>\n",
       "</table>\n",
       "</div>"
      ],
      "text/plain": [
       "             user_id  page_home   page_search  page_payment  page_confirmation\n",
       "count   90400.000000    90400.0  90400.000000  90400.000000       90400.000000\n",
       "mean   498709.683473        1.0      0.500000      0.066704           0.005000\n",
       "std    289040.674085        0.0      0.500003      0.249509           0.070534\n",
       "min        17.000000        1.0      0.000000      0.000000           0.000000\n",
       "25%    247978.750000        1.0      0.000000      0.000000           0.000000\n",
       "50%    498267.000000        1.0      0.500000      0.000000           0.000000\n",
       "75%    749789.250000        1.0      1.000000      0.000000           0.000000\n",
       "max    999979.000000        1.0      1.000000      1.000000           1.000000"
      ]
     },
     "execution_count": 10,
     "metadata": {},
     "output_type": "execute_result"
    }
   ],
   "source": [
    "# Check the data statistics\n",
    "data.describe()"
   ]
  },
  {
   "cell_type": "code",
   "execution_count": 11,
   "id": "2766420c",
   "metadata": {},
   "outputs": [
    {
     "data": {
      "text/plain": [
       "True"
      ]
     },
     "execution_count": 11,
     "metadata": {},
     "output_type": "execute_result"
    }
   ],
   "source": [
    "# Check if user_id is unique\n",
    "data['user_id'].nunique()==len(data)"
   ]
  },
  {
   "cell_type": "code",
   "execution_count": 12,
   "id": "30d7e1da",
   "metadata": {},
   "outputs": [
    {
     "data": {
      "text/plain": [
       "array([ True])"
      ]
     },
     "execution_count": 12,
     "metadata": {},
     "output_type": "execute_result"
    }
   ],
   "source": [
    "# Check if anyone who made it to a given step of the funnel also made it to the prior step(s). Unique number of the prior steps has to be larger than the current step\n",
    "(data['page_search'] >= data['page_payment']).unique()"
   ]
  },
  {
   "cell_type": "code",
   "execution_count": 13,
   "id": "d2bf2d97",
   "metadata": {},
   "outputs": [
    {
     "data": {
      "text/plain": [
       "array([ True])"
      ]
     },
     "execution_count": 13,
     "metadata": {},
     "output_type": "execute_result"
    }
   ],
   "source": [
    "(data['page_payment'] >= data['page_confirmation']).unique()"
   ]
  },
  {
   "cell_type": "markdown",
   "id": "b6b60ff4",
   "metadata": {},
   "source": [
    "### Funnel Converion Rate"
   ]
  },
  {
   "cell_type": "code",
   "execution_count": 14,
   "id": "85284fbf",
   "metadata": {},
   "outputs": [
    {
     "data": {
      "text/html": [
       "<div>\n",
       "<style scoped>\n",
       "    .dataframe tbody tr th:only-of-type {\n",
       "        vertical-align: middle;\n",
       "    }\n",
       "\n",
       "    .dataframe tbody tr th {\n",
       "        vertical-align: top;\n",
       "    }\n",
       "\n",
       "    .dataframe thead th {\n",
       "        text-align: right;\n",
       "    }\n",
       "</style>\n",
       "<table border=\"1\" class=\"dataframe\">\n",
       "  <thead>\n",
       "    <tr style=\"text-align: right;\">\n",
       "      <th></th>\n",
       "      <th>count</th>\n",
       "      <th>mean</th>\n",
       "    </tr>\n",
       "    <tr>\n",
       "      <th>device</th>\n",
       "      <th></th>\n",
       "      <th></th>\n",
       "    </tr>\n",
       "  </thead>\n",
       "  <tbody>\n",
       "    <tr>\n",
       "      <th>Desktop</th>\n",
       "      <td>60200</td>\n",
       "      <td>0.002492</td>\n",
       "    </tr>\n",
       "    <tr>\n",
       "      <th>Mobile</th>\n",
       "      <td>30200</td>\n",
       "      <td>0.010000</td>\n",
       "    </tr>\n",
       "  </tbody>\n",
       "</table>\n",
       "</div>"
      ],
      "text/plain": [
       "         count      mean\n",
       "device                  \n",
       "Desktop  60200  0.002492\n",
       "Mobile   30200  0.010000"
      ]
     },
     "execution_count": 14,
     "metadata": {},
     "output_type": "execute_result"
    }
   ],
   "source": [
    "# Overall conversion rate for desktop and mobile\n",
    "data.groupby('device')['page_confirmation'].agg({'mean', 'count'})"
   ]
  },
  {
   "cell_type": "markdown",
   "id": "0f53c99d",
   "metadata": {},
   "source": [
    "#### Insights\n",
    "- Overall mobile conversion rate is 4 times higher than desktop\n",
    "- Desktop has 2 times more page - confirmed users than mobile\n",
    "- Conversion is significantly lower than 1% which is pretty low for most online business"
   ]
  },
  {
   "cell_type": "code",
   "execution_count": 15,
   "id": "ed88c318",
   "metadata": {},
   "outputs": [
    {
     "data": {
      "text/html": [
       "<div>\n",
       "<style scoped>\n",
       "    .dataframe tbody tr th:only-of-type {\n",
       "        vertical-align: middle;\n",
       "    }\n",
       "\n",
       "    .dataframe tbody tr th {\n",
       "        vertical-align: top;\n",
       "    }\n",
       "\n",
       "    .dataframe thead th {\n",
       "        text-align: right;\n",
       "    }\n",
       "</style>\n",
       "<table border=\"1\" class=\"dataframe\">\n",
       "  <thead>\n",
       "    <tr style=\"text-align: right;\">\n",
       "      <th></th>\n",
       "      <th>to_search</th>\n",
       "      <th>to_payment</th>\n",
       "      <th>to_confirmation</th>\n",
       "    </tr>\n",
       "    <tr>\n",
       "      <th>device</th>\n",
       "      <th></th>\n",
       "      <th></th>\n",
       "      <th></th>\n",
       "    </tr>\n",
       "  </thead>\n",
       "  <tbody>\n",
       "    <tr>\n",
       "      <th>Desktop</th>\n",
       "      <td>0.5</td>\n",
       "      <td>0.1</td>\n",
       "      <td>0.049834</td>\n",
       "    </tr>\n",
       "    <tr>\n",
       "      <th>Mobile</th>\n",
       "      <td>0.5</td>\n",
       "      <td>0.2</td>\n",
       "      <td>0.100000</td>\n",
       "    </tr>\n",
       "  </tbody>\n",
       "</table>\n",
       "</div>"
      ],
      "text/plain": [
       "         to_search  to_payment  to_confirmation\n",
       "device                                         \n",
       "Desktop        0.5         0.1         0.049834\n",
       "Mobile         0.5         0.2         0.100000"
      ]
     },
     "execution_count": 15,
     "metadata": {},
     "output_type": "execute_result"
    }
   ],
   "source": [
    "# Check the conversion rate for the entire funnel\n",
    "data.groupby('device').apply(\n",
    "                    lambda x: pd.Series({\n",
    "                            'to_search' : x['page_search'].mean()/x['page_home'].mean(),\n",
    "                            'to_payment': x['page_payment'].mean()/x['page_search'].mean(),\n",
    "                            'to_confirmation': x['page_confirmation'].mean()/x['page_payment'].mean()\n",
    "  }))"
   ]
  },
  {
   "cell_type": "markdown",
   "id": "8eb274ae",
   "metadata": {},
   "source": [
    "#### Insights\n",
    "- 50% bouncers are pretty common\n",
    "- to payment and to confirmation percentage is very low\n",
    "- We can safely assume that people who made it to the search page have some intent to buy. However, only 1% of these people convert on desktop and 2% of mobile! "
   ]
  },
  {
   "cell_type": "markdown",
   "id": "349f46a9",
   "metadata": {},
   "source": [
    "### Time-Series Analysis"
   ]
  },
  {
   "cell_type": "code",
   "execution_count": 16,
   "id": "daa4fb85",
   "metadata": {},
   "outputs": [
    {
     "data": {
      "image/png": "[encoded data removed]",
      "text/plain": [
       "<Figure size 432x288 with 1 Axes>"
      ]
     },
     "metadata": {
      "needs_background": "light"
     },
     "output_type": "display_data"
    }
   ],
   "source": [
    "# conversion rate as a time series\n",
    "cr_ts = data.groupby(['date', 'device'])['page_confirmation'].mean().reset_index(name='conversion_rate')\n",
    "  \n",
    "g = sns.lineplot(x=\"date\", hue=\"device\", y=\"conversion_rate\", data=cr_ts)  \n",
    "\n",
    "g.xaxis.set_major_locator(mdates.MonthLocator())\n",
    "g.xaxis.set_major_formatter(mdates.DateFormatter('%b %d'))\n",
    "plt.show()"
   ]
  },
  {
   "cell_type": "markdown",
   "id": "13eb73be",
   "metadata": {},
   "source": [
    "#### Insights\n",
    "- Both desktop and mobile dropped significantly at the beginning of March"
   ]
  },
  {
   "cell_type": "code",
   "execution_count": 18,
   "id": "2798386e",
   "metadata": {},
   "outputs": [],
   "source": [
    "# Break down the funnel into its page-by-page steps to see if those drops are related to a given page\n",
    "funnel = data.groupby(['date', 'device']).apply(\n",
    "                    lambda x: pd.Series({\n",
    "                            'to_search' : x['page_search'].mean()/x['page_home'].mean(),\n",
    "                            'to_payment': x['page_payment'].mean()/x['page_search'].mean(),\n",
    "                            'to_confirmation': x['page_confirmation'].mean()/x['page_payment'].mean()\n",
    "  })).reset_index()"
   ]
  },
  {
   "cell_type": "code",
   "execution_count": 19,
   "id": "a8d671a1",
   "metadata": {},
   "outputs": [
    {
     "data": {
      "image/png": "[encoded data removed]",
      "text/plain": [
       "<Figure size 864x648 with 3 Axes>"
      ]
     },
     "metadata": {
      "needs_background": "light"
     },
     "output_type": "display_data"
    }
   ],
   "source": [
    "#Make the dataset long for the plot\n",
    "funnel = pd.melt(funnel,id_vars=['date', 'device'])\n",
    "#Plot it\n",
    "g = sns.FacetGrid(funnel, hue=\"device\", row=\"variable\", aspect=4, sharey=False)\n",
    "g.map(sns.lineplot, \"date\", \"value\")\n",
    "\n",
    "g.set_axis_labels(\"\", \"Conversion Rate\")\n",
    "g.set(xticks=funnel.date[2::30].unique())\n",
    "plt.xticks(rotation=45)\n",
    "plt.legend(loc='upper right')\n",
    "plt.show()"
   ]
  },
  {
   "cell_type": "markdown",
   "id": "a81ae448",
   "metadata": {},
   "source": [
    "#### Insights\n",
    "- Both desktop and dropped on March, but this happened on different pages\n",
    "- Mobile had a huge drop during the to_search step\n",
    "- Desktop had a huge drop on the to_payment step"
   ]
  },
  {
   "cell_type": "markdown",
   "id": "3c4a20c4",
   "metadata": {},
   "source": [
    "### Product Insights"
   ]
  },
  {
   "cell_type": "code",
   "execution_count": 20,
   "id": "ca8e9958",
   "metadata": {},
   "outputs": [
    {
     "data": {
      "text/html": [
       "<div>\n",
       "<style scoped>\n",
       "    .dataframe tbody tr th:only-of-type {\n",
       "        vertical-align: middle;\n",
       "    }\n",
       "\n",
       "    .dataframe tbody tr th {\n",
       "        vertical-align: top;\n",
       "    }\n",
       "\n",
       "    .dataframe thead th {\n",
       "        text-align: right;\n",
       "    }\n",
       "</style>\n",
       "<table border=\"1\" class=\"dataframe\">\n",
       "  <thead>\n",
       "    <tr style=\"text-align: right;\">\n",
       "      <th></th>\n",
       "      <th>count</th>\n",
       "      <th>mean</th>\n",
       "    </tr>\n",
       "    <tr>\n",
       "      <th>sex</th>\n",
       "      <th></th>\n",
       "      <th></th>\n",
       "    </tr>\n",
       "  </thead>\n",
       "  <tbody>\n",
       "    <tr>\n",
       "      <th>Female</th>\n",
       "      <td>45075</td>\n",
       "      <td>0.005347</td>\n",
       "    </tr>\n",
       "    <tr>\n",
       "      <th>Male</th>\n",
       "      <td>45325</td>\n",
       "      <td>0.004655</td>\n",
       "    </tr>\n",
       "  </tbody>\n",
       "</table>\n",
       "</div>"
      ],
      "text/plain": [
       "        count      mean\n",
       "sex                    \n",
       "Female  45075  0.005347\n",
       "Male    45325  0.004655"
      ]
     },
     "execution_count": 20,
     "metadata": {},
     "output_type": "execute_result"
    }
   ],
   "source": [
    "# Overall conversion rate by gender\n",
    "data.groupby('sex')['page_confirmation'].agg({'mean', 'count'})"
   ]
  },
  {
   "cell_type": "markdown",
   "id": "c248ff53",
   "metadata": {},
   "source": [
    "#### Insights\n",
    "- We almost have the same number of Male and Female users\n",
    "- Conversion rate appears pretty similar too"
   ]
  },
  {
   "cell_type": "code",
   "execution_count": 24,
   "id": "ffe2b6a5",
   "metadata": {},
   "outputs": [
    {
     "name": "stdout",
     "output_type": "stream",
     "text": [
      "1.473291657657286\n"
     ]
    }
   ],
   "source": [
    "# We want to check if the small difference in conversion rate is statistically significant\n",
    "from scipy import stats\n",
    "# Run statistical test on conversion rate and gender\n",
    "test = stats.ttest_ind(data.loc[data['sex'] == 'Female']['page_confirmation'], data.loc[data['sex'] != 'Female']['page_confirmation'], equal_var=False)\n",
    "  \n",
    "#t statistics\n",
    "print(test.statistic)"
   ]
  },
  {
   "cell_type": "code",
   "execution_count": 22,
   "id": "7efa6939",
   "metadata": {},
   "outputs": [
    {
     "name": "stdout",
     "output_type": "stream",
     "text": [
      "0.14067591026227633\n"
     ]
    }
   ],
   "source": [
    "#p-value\n",
    "print(test.pvalue)"
   ]
  },
  {
   "cell_type": "code",
   "execution_count": 25,
   "id": "a211f7b9",
   "metadata": {},
   "outputs": [],
   "source": [
    "# the result is not significant. Overall, gender does not affect the conversion in a statistically significant way. "
   ]
  },
  {
   "cell_type": "code",
   "execution_count": 26,
   "id": "8a22120d",
   "metadata": {},
   "outputs": [
    {
     "name": "stdout",
     "output_type": "stream",
     "text": [
      "                count      mean\n",
      "device  sex                    \n",
      "Desktop Female  29997  0.002467\n",
      "        Male    30203  0.002516\n",
      "Mobile  Female  15078  0.011076\n",
      "        Male    15122  0.008927\n"
     ]
    }
   ],
   "source": [
    "#interaction of sex and device\n",
    "print(data.groupby(['device', 'sex'])['page_confirmation'].agg({'mean', 'count'}))"
   ]
  },
  {
   "cell_type": "markdown",
   "id": "8f950ad3",
   "metadata": {},
   "source": [
    "#### Insights\n",
    "It looks like the entire difference in conversion rate between males and females comes from mobile. Hard to say more without having more variables. It could very well be noise, or a proxy for some other variables. In any case, this is something that might lead to further analysis, although it is certainly not a top priority given everything else we discovered.\n"
   ]
  },
  {
   "cell_type": "markdown",
   "id": "66f8b203",
   "metadata": {},
   "source": [
    "### Conclusions"
   ]
  },
  {
   "cell_type": "markdown",
   "id": "3a6092f3",
   "metadata": {},
   "source": [
    "- Desktop has way more users than mobile, but with much lower conversion rate. Having less mobile visitors is pretty worrisome. Pretty much all healthy tech companies should have more mobile users than desktop. So growing mobile should be a top priority for the company as a whole\n",
    "- There are a couple of ways to explain the lower conversion rate on desktop:\n",
    "    - Product: desktop has a worse product. So product team should look into the differences between the two to see if UX/UI can be improved on desktop\n",
    "\n",
    "    - Marketing: the two platforms are attracting different kinds of users. So they just act as a proxy for user distribution. For instance, mobile didn’t get popular and only has power users, who obviously convert at a much higher rate. Or desktop is spending a lot on ads and these ads are attracting lower intent users. If we had more data about the users, we could find out if user distribution is the same across the devices (so it is most likely a product problem) or not (-> marketing problem). The marketing explanation has the advantage of explaining also the strangely lower absolute count for mobile users\n",
    "- All key metrics for both devices have actually gone down a lot in the last few months. All drops though appear to happen on specific days and one specific page. This kind of behavior is often the sign of a bug (more likely) or bad product changes (which at the end of the day are basically bugs too, just product bugs instead of engineering bugs). Usual analysis steps to find out why a metric suddenly dropped should be done here.\n",
    "- It is hard to say without more information about the site, but the funnel numbers across the board don’t look particularly good. For instance, even before the bug, only at most 20% of users go from the search page to the payment page. These are clearly users with some sort of intent. It could be interesting to look into the characteristics of the search queries to see if people are constantly looking for something they cannot find. Essentially, trying to understand lack of supply compared to user demand."
   ]
  },
  {
   "cell_type": "code",
   "execution_count": null,
   "id": "ab2f5e0b",
   "metadata": {},
   "outputs": [],
   "source": []
  }
 ],
 "metadata": {
  "kernelspec": {
   "display_name": "Python 3",
   "language": "python",
   "name": "python3"
  },
  "language_info": {
   "codemirror_mode": {
    "name": "ipython",
    "version": 3
   },
   "file_extension": ".py",
   "mimetype": "text/x-python",
   "name": "python",
   "nbconvert_exporter": "python",
   "pygments_lexer": "ipython3",
   "version": "3.8.8"
  }
 },
 "nbformat": 4,
 "nbformat_minor": 5
}
